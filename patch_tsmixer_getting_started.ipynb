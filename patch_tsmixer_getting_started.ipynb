{
  "cells": [
    {
      "cell_type": "markdown",
      "metadata": {
        "id": "view-in-github",
        "colab_type": "text"
      },
      "source": [
        "<a href=\"https://colab.research.google.com/github/paranoia0121/PredictionComparison/blob/main/patch_tsmixer_getting_started.ipynb\" target=\"_parent\"><img src=\"https://colab.research.google.com/assets/colab-badge.svg\" alt=\"Open In Colab\"/></a>"
      ]
    },
    {
      "cell_type": "markdown",
      "id": "7478e0e2-b7af-4fd4-b44e-ca58e0c31b71",
      "metadata": {
        "id": "7478e0e2-b7af-4fd4-b44e-ca58e0c31b71"
      },
      "source": [
        "# Getting started with `PatchTSMixer`\n",
        "## Direct forecasting example\n",
        "\n",
        "This notebooke demonstrates the usage of a `PatchTSMixer` model for a multivariate time series forecasting task. This notebook has a dependecy on HuggingFace [transformers](https://github.com/huggingface/transformers) repo. For details related to model architecture, refer to the [TSMixer paper](https://arxiv.org/abs/2306.09364)."
      ]
    },
    {
      "cell_type": "code",
      "source": [
        "# Clone the ibm/tsfm\n",
        "! git clone https://github.com/IBM/tsfm.git"
      ],
      "metadata": {
        "colab": {
          "base_uri": "https://localhost:8080/"
        },
        "id": "bDnSc2fnfWvs",
        "outputId": "8706390d-bca4-404f-c22f-a26ec72b4471"
      },
      "id": "bDnSc2fnfWvs",
      "execution_count": 2,
      "outputs": [
        {
          "output_type": "stream",
          "name": "stdout",
          "text": [
            "Cloning into 'tsfm'...\n",
            "remote: Enumerating objects: 2286, done.\u001b[K\n",
            "remote: Counting objects: 100% (828/828), done.\u001b[K\n",
            "remote: Compressing objects: 100% (298/298), done.\u001b[K\n",
            "remote: Total 2286 (delta 595), reused 548 (delta 530), pack-reused 1458\u001b[K\n",
            "Receiving objects: 100% (2286/2286), 20.17 MiB | 20.53 MiB/s, done.\n",
            "Resolving deltas: 100% (1343/1343), done.\n"
          ]
        }
      ]
    },
    {
      "cell_type": "code",
      "source": [
        "# Change directory. Move inside the tsfm repo.\n",
        "%cd tsfm"
      ],
      "metadata": {
        "colab": {
          "base_uri": "https://localhost:8080/"
        },
        "id": "i5lZk972gHO2",
        "outputId": "b7e45dd7-a50e-4a96-f4be-ed2f7c91effe"
      },
      "id": "i5lZk972gHO2",
      "execution_count": 5,
      "outputs": [
        {
          "output_type": "stream",
          "name": "stdout",
          "text": [
            "[Errno 2] No such file or directory: 'tsfm'\n",
            "/content/tsfm\n"
          ]
        }
      ]
    },
    {
      "cell_type": "code",
      "source": [
        "# Install the tsfm library\n",
        "! pip install \".[notebooks]\""
      ],
      "metadata": {
        "colab": {
          "base_uri": "https://localhost:8080/",
          "height": 1000
        },
        "id": "UI8BVujXiRV5",
        "outputId": "e15bce99-10db-477f-a611-bafdf1b72a72"
      },
      "id": "UI8BVujXiRV5",
      "execution_count": 7,
      "outputs": [
        {
          "output_type": "stream",
          "name": "stdout",
          "text": [
            "Processing /content/tsfm\n",
            "  Installing build dependencies ... \u001b[?25l\u001b[?25hdone\n",
            "  Getting requirements to build wheel ... \u001b[?25l\u001b[?25hdone\n",
            "  Preparing metadata (pyproject.toml) ... \u001b[?25l\u001b[?25hdone\n",
            "Collecting pandas>=2.2.0 (from tsfm_public==0.2.7.dev29+gc9bbacf)\n",
            "  Downloading pandas-2.2.2-cp310-cp310-manylinux_2_17_x86_64.manylinux2014_x86_64.whl.metadata (19 kB)\n",
            "Requirement already satisfied: scikit-learn in /usr/local/lib/python3.10/dist-packages (from tsfm_public==0.2.7.dev29+gc9bbacf) (1.3.2)\n",
            "Requirement already satisfied: transformers>=4.38.0 in /usr/local/lib/python3.10/dist-packages (from transformers[torch]>=4.38.0->tsfm_public==0.2.7.dev29+gc9bbacf) (4.42.4)\n",
            "Collecting datasets (from tsfm_public==0.2.7.dev29+gc9bbacf)\n",
            "  Downloading datasets-2.20.0-py3-none-any.whl.metadata (19 kB)\n",
            "Collecting deprecated (from tsfm_public==0.2.7.dev29+gc9bbacf)\n",
            "  Downloading Deprecated-1.2.14-py2.py3-none-any.whl.metadata (5.4 kB)\n",
            "Collecting urllib3<2,>=1.26.19 (from tsfm_public==0.2.7.dev29+gc9bbacf)\n",
            "  Downloading urllib3-1.26.19-py2.py3-none-any.whl.metadata (49 kB)\n",
            "\u001b[2K     \u001b[90m━━━━━━━━━━━━━━━━━━━━━━━━━━━━━━━━━━━━━━━━\u001b[0m \u001b[32m49.3/49.3 kB\u001b[0m \u001b[31m1.9 MB/s\u001b[0m eta \u001b[36m0:00:00\u001b[0m\n",
            "\u001b[?25hRequirement already satisfied: numpy<2 in /usr/local/lib/python3.10/dist-packages (from tsfm_public==0.2.7.dev29+gc9bbacf) (1.26.4)\n",
            "Collecting jupyter (from tsfm_public==0.2.7.dev29+gc9bbacf)\n",
            "  Downloading jupyter-1.0.0-py2.py3-none-any.whl.metadata (995 bytes)\n",
            "Requirement already satisfied: matplotlib in /usr/local/lib/python3.10/dist-packages (from tsfm_public==0.2.7.dev29+gc9bbacf) (3.7.1)\n",
            "Requirement already satisfied: ipywidgets in /usr/local/lib/python3.10/dist-packages (from tsfm_public==0.2.7.dev29+gc9bbacf) (7.7.1)\n",
            "Requirement already satisfied: plotly in /usr/local/lib/python3.10/dist-packages (from tsfm_public==0.2.7.dev29+gc9bbacf) (5.15.0)\n",
            "Collecting kaleido (from tsfm_public==0.2.7.dev29+gc9bbacf)\n",
            "  Downloading kaleido-0.2.1-py2.py3-none-manylinux1_x86_64.whl.metadata (15 kB)\n",
            "Requirement already satisfied: tensorboard in /usr/local/lib/python3.10/dist-packages (from tsfm_public==0.2.7.dev29+gc9bbacf) (2.17.0)\n",
            "Requirement already satisfied: python-dateutil>=2.8.2 in /usr/local/lib/python3.10/dist-packages (from pandas>=2.2.0->tsfm_public==0.2.7.dev29+gc9bbacf) (2.8.2)\n",
            "Requirement already satisfied: pytz>=2020.1 in /usr/local/lib/python3.10/dist-packages (from pandas>=2.2.0->tsfm_public==0.2.7.dev29+gc9bbacf) (2024.1)\n",
            "Requirement already satisfied: tzdata>=2022.7 in /usr/local/lib/python3.10/dist-packages (from pandas>=2.2.0->tsfm_public==0.2.7.dev29+gc9bbacf) (2024.1)\n",
            "Requirement already satisfied: filelock in /usr/local/lib/python3.10/dist-packages (from transformers>=4.38.0->transformers[torch]>=4.38.0->tsfm_public==0.2.7.dev29+gc9bbacf) (3.15.4)\n",
            "Requirement already satisfied: huggingface-hub<1.0,>=0.23.2 in /usr/local/lib/python3.10/dist-packages (from transformers>=4.38.0->transformers[torch]>=4.38.0->tsfm_public==0.2.7.dev29+gc9bbacf) (0.23.5)\n",
            "Requirement already satisfied: packaging>=20.0 in /usr/local/lib/python3.10/dist-packages (from transformers>=4.38.0->transformers[torch]>=4.38.0->tsfm_public==0.2.7.dev29+gc9bbacf) (24.1)\n",
            "Requirement already satisfied: pyyaml>=5.1 in /usr/local/lib/python3.10/dist-packages (from transformers>=4.38.0->transformers[torch]>=4.38.0->tsfm_public==0.2.7.dev29+gc9bbacf) (6.0.1)\n",
            "Requirement already satisfied: regex!=2019.12.17 in /usr/local/lib/python3.10/dist-packages (from transformers>=4.38.0->transformers[torch]>=4.38.0->tsfm_public==0.2.7.dev29+gc9bbacf) (2024.5.15)\n",
            "Requirement already satisfied: requests in /usr/local/lib/python3.10/dist-packages (from transformers>=4.38.0->transformers[torch]>=4.38.0->tsfm_public==0.2.7.dev29+gc9bbacf) (2.32.3)\n",
            "Requirement already satisfied: safetensors>=0.4.1 in /usr/local/lib/python3.10/dist-packages (from transformers>=4.38.0->transformers[torch]>=4.38.0->tsfm_public==0.2.7.dev29+gc9bbacf) (0.4.4)\n",
            "Requirement already satisfied: tokenizers<0.20,>=0.19 in /usr/local/lib/python3.10/dist-packages (from transformers>=4.38.0->transformers[torch]>=4.38.0->tsfm_public==0.2.7.dev29+gc9bbacf) (0.19.1)\n",
            "Requirement already satisfied: tqdm>=4.27 in /usr/local/lib/python3.10/dist-packages (from transformers>=4.38.0->transformers[torch]>=4.38.0->tsfm_public==0.2.7.dev29+gc9bbacf) (4.66.5)\n",
            "Requirement already satisfied: accelerate>=0.21.0 in /usr/local/lib/python3.10/dist-packages (from transformers[torch]>=4.38.0->tsfm_public==0.2.7.dev29+gc9bbacf) (0.32.1)\n",
            "Requirement already satisfied: torch in /usr/local/lib/python3.10/dist-packages (from transformers[torch]>=4.38.0->tsfm_public==0.2.7.dev29+gc9bbacf) (2.3.1+cu121)\n",
            "Collecting pyarrow>=15.0.0 (from datasets->tsfm_public==0.2.7.dev29+gc9bbacf)\n",
            "  Downloading pyarrow-17.0.0-cp310-cp310-manylinux_2_28_x86_64.whl.metadata (3.3 kB)\n",
            "Requirement already satisfied: pyarrow-hotfix in /usr/local/lib/python3.10/dist-packages (from datasets->tsfm_public==0.2.7.dev29+gc9bbacf) (0.6)\n",
            "Collecting dill<0.3.9,>=0.3.0 (from datasets->tsfm_public==0.2.7.dev29+gc9bbacf)\n",
            "  Downloading dill-0.3.8-py3-none-any.whl.metadata (10 kB)\n",
            "Collecting xxhash (from datasets->tsfm_public==0.2.7.dev29+gc9bbacf)\n",
            "  Downloading xxhash-3.4.1-cp310-cp310-manylinux_2_17_x86_64.manylinux2014_x86_64.whl.metadata (12 kB)\n",
            "Collecting multiprocess (from datasets->tsfm_public==0.2.7.dev29+gc9bbacf)\n",
            "  Downloading multiprocess-0.70.16-py310-none-any.whl.metadata (7.2 kB)\n",
            "Collecting fsspec<=2024.5.0,>=2023.1.0 (from fsspec[http]<=2024.5.0,>=2023.1.0->datasets->tsfm_public==0.2.7.dev29+gc9bbacf)\n",
            "  Downloading fsspec-2024.5.0-py3-none-any.whl.metadata (11 kB)\n",
            "Requirement already satisfied: aiohttp in /usr/local/lib/python3.10/dist-packages (from datasets->tsfm_public==0.2.7.dev29+gc9bbacf) (3.10.1)\n",
            "Requirement already satisfied: wrapt<2,>=1.10 in /usr/local/lib/python3.10/dist-packages (from deprecated->tsfm_public==0.2.7.dev29+gc9bbacf) (1.16.0)\n",
            "Requirement already satisfied: ipykernel>=4.5.1 in /usr/local/lib/python3.10/dist-packages (from ipywidgets->tsfm_public==0.2.7.dev29+gc9bbacf) (5.5.6)\n",
            "Requirement already satisfied: ipython-genutils~=0.2.0 in /usr/local/lib/python3.10/dist-packages (from ipywidgets->tsfm_public==0.2.7.dev29+gc9bbacf) (0.2.0)\n",
            "Requirement already satisfied: traitlets>=4.3.1 in /usr/local/lib/python3.10/dist-packages (from ipywidgets->tsfm_public==0.2.7.dev29+gc9bbacf) (5.7.1)\n",
            "Requirement already satisfied: widgetsnbextension~=3.6.0 in /usr/local/lib/python3.10/dist-packages (from ipywidgets->tsfm_public==0.2.7.dev29+gc9bbacf) (3.6.8)\n",
            "Requirement already satisfied: ipython>=4.0.0 in /usr/local/lib/python3.10/dist-packages (from ipywidgets->tsfm_public==0.2.7.dev29+gc9bbacf) (7.34.0)\n",
            "Requirement already satisfied: jupyterlab-widgets>=1.0.0 in /usr/local/lib/python3.10/dist-packages (from ipywidgets->tsfm_public==0.2.7.dev29+gc9bbacf) (3.0.11)\n",
            "Requirement already satisfied: notebook in /usr/local/lib/python3.10/dist-packages (from jupyter->tsfm_public==0.2.7.dev29+gc9bbacf) (6.5.5)\n",
            "Collecting qtconsole (from jupyter->tsfm_public==0.2.7.dev29+gc9bbacf)\n",
            "  Downloading qtconsole-5.5.2-py3-none-any.whl.metadata (5.1 kB)\n",
            "Requirement already satisfied: jupyter-console in /usr/local/lib/python3.10/dist-packages (from jupyter->tsfm_public==0.2.7.dev29+gc9bbacf) (6.1.0)\n",
            "Requirement already satisfied: nbconvert in /usr/local/lib/python3.10/dist-packages (from jupyter->tsfm_public==0.2.7.dev29+gc9bbacf) (6.5.4)\n",
            "Requirement already satisfied: contourpy>=1.0.1 in /usr/local/lib/python3.10/dist-packages (from matplotlib->tsfm_public==0.2.7.dev29+gc9bbacf) (1.2.1)\n",
            "Requirement already satisfied: cycler>=0.10 in /usr/local/lib/python3.10/dist-packages (from matplotlib->tsfm_public==0.2.7.dev29+gc9bbacf) (0.12.1)\n",
            "Requirement already satisfied: fonttools>=4.22.0 in /usr/local/lib/python3.10/dist-packages (from matplotlib->tsfm_public==0.2.7.dev29+gc9bbacf) (4.53.1)\n",
            "Requirement already satisfied: kiwisolver>=1.0.1 in /usr/local/lib/python3.10/dist-packages (from matplotlib->tsfm_public==0.2.7.dev29+gc9bbacf) (1.4.5)\n",
            "Requirement already satisfied: pillow>=6.2.0 in /usr/local/lib/python3.10/dist-packages (from matplotlib->tsfm_public==0.2.7.dev29+gc9bbacf) (9.4.0)\n",
            "Requirement already satisfied: pyparsing>=2.3.1 in /usr/local/lib/python3.10/dist-packages (from matplotlib->tsfm_public==0.2.7.dev29+gc9bbacf) (3.1.2)\n",
            "Requirement already satisfied: tenacity>=6.2.0 in /usr/local/lib/python3.10/dist-packages (from plotly->tsfm_public==0.2.7.dev29+gc9bbacf) (9.0.0)\n",
            "Requirement already satisfied: scipy>=1.5.0 in /usr/local/lib/python3.10/dist-packages (from scikit-learn->tsfm_public==0.2.7.dev29+gc9bbacf) (1.13.1)\n",
            "Requirement already satisfied: joblib>=1.1.1 in /usr/local/lib/python3.10/dist-packages (from scikit-learn->tsfm_public==0.2.7.dev29+gc9bbacf) (1.4.2)\n",
            "Requirement already satisfied: threadpoolctl>=2.0.0 in /usr/local/lib/python3.10/dist-packages (from scikit-learn->tsfm_public==0.2.7.dev29+gc9bbacf) (3.5.0)\n",
            "Requirement already satisfied: absl-py>=0.4 in /usr/local/lib/python3.10/dist-packages (from tensorboard->tsfm_public==0.2.7.dev29+gc9bbacf) (1.4.0)\n",
            "Requirement already satisfied: grpcio>=1.48.2 in /usr/local/lib/python3.10/dist-packages (from tensorboard->tsfm_public==0.2.7.dev29+gc9bbacf) (1.64.1)\n",
            "Requirement already satisfied: markdown>=2.6.8 in /usr/local/lib/python3.10/dist-packages (from tensorboard->tsfm_public==0.2.7.dev29+gc9bbacf) (3.6)\n",
            "Requirement already satisfied: protobuf!=4.24.0,<5.0.0,>=3.19.6 in /usr/local/lib/python3.10/dist-packages (from tensorboard->tsfm_public==0.2.7.dev29+gc9bbacf) (3.20.3)\n",
            "Requirement already satisfied: setuptools>=41.0.0 in /usr/local/lib/python3.10/dist-packages (from tensorboard->tsfm_public==0.2.7.dev29+gc9bbacf) (71.0.4)\n",
            "Requirement already satisfied: six>1.9 in /usr/local/lib/python3.10/dist-packages (from tensorboard->tsfm_public==0.2.7.dev29+gc9bbacf) (1.16.0)\n",
            "Requirement already satisfied: tensorboard-data-server<0.8.0,>=0.7.0 in /usr/local/lib/python3.10/dist-packages (from tensorboard->tsfm_public==0.2.7.dev29+gc9bbacf) (0.7.2)\n",
            "Requirement already satisfied: werkzeug>=1.0.1 in /usr/local/lib/python3.10/dist-packages (from tensorboard->tsfm_public==0.2.7.dev29+gc9bbacf) (3.0.3)\n",
            "Requirement already satisfied: psutil in /usr/local/lib/python3.10/dist-packages (from accelerate>=0.21.0->transformers[torch]>=4.38.0->tsfm_public==0.2.7.dev29+gc9bbacf) (5.9.5)\n",
            "Requirement already satisfied: aiohappyeyeballs>=2.3.0 in /usr/local/lib/python3.10/dist-packages (from aiohttp->datasets->tsfm_public==0.2.7.dev29+gc9bbacf) (2.3.4)\n",
            "Requirement already satisfied: aiosignal>=1.1.2 in /usr/local/lib/python3.10/dist-packages (from aiohttp->datasets->tsfm_public==0.2.7.dev29+gc9bbacf) (1.3.1)\n",
            "Requirement already satisfied: attrs>=17.3.0 in /usr/local/lib/python3.10/dist-packages (from aiohttp->datasets->tsfm_public==0.2.7.dev29+gc9bbacf) (24.1.0)\n",
            "Requirement already satisfied: frozenlist>=1.1.1 in /usr/local/lib/python3.10/dist-packages (from aiohttp->datasets->tsfm_public==0.2.7.dev29+gc9bbacf) (1.4.1)\n",
            "Requirement already satisfied: multidict<7.0,>=4.5 in /usr/local/lib/python3.10/dist-packages (from aiohttp->datasets->tsfm_public==0.2.7.dev29+gc9bbacf) (6.0.5)\n",
            "Requirement already satisfied: yarl<2.0,>=1.0 in /usr/local/lib/python3.10/dist-packages (from aiohttp->datasets->tsfm_public==0.2.7.dev29+gc9bbacf) (1.9.4)\n",
            "Requirement already satisfied: async-timeout<5.0,>=4.0 in /usr/local/lib/python3.10/dist-packages (from aiohttp->datasets->tsfm_public==0.2.7.dev29+gc9bbacf) (4.0.3)\n",
            "Requirement already satisfied: typing-extensions>=3.7.4.3 in /usr/local/lib/python3.10/dist-packages (from huggingface-hub<1.0,>=0.23.2->transformers>=4.38.0->transformers[torch]>=4.38.0->tsfm_public==0.2.7.dev29+gc9bbacf) (4.12.2)\n",
            "Requirement already satisfied: jupyter-client in /usr/local/lib/python3.10/dist-packages (from ipykernel>=4.5.1->ipywidgets->tsfm_public==0.2.7.dev29+gc9bbacf) (6.1.12)\n",
            "Requirement already satisfied: tornado>=4.2 in /usr/local/lib/python3.10/dist-packages (from ipykernel>=4.5.1->ipywidgets->tsfm_public==0.2.7.dev29+gc9bbacf) (6.3.3)\n",
            "Collecting jedi>=0.16 (from ipython>=4.0.0->ipywidgets->tsfm_public==0.2.7.dev29+gc9bbacf)\n",
            "  Using cached jedi-0.19.1-py2.py3-none-any.whl.metadata (22 kB)\n",
            "Requirement already satisfied: decorator in /usr/local/lib/python3.10/dist-packages (from ipython>=4.0.0->ipywidgets->tsfm_public==0.2.7.dev29+gc9bbacf) (4.4.2)\n",
            "Requirement already satisfied: pickleshare in /usr/local/lib/python3.10/dist-packages (from ipython>=4.0.0->ipywidgets->tsfm_public==0.2.7.dev29+gc9bbacf) (0.7.5)\n",
            "Requirement already satisfied: prompt-toolkit!=3.0.0,!=3.0.1,<3.1.0,>=2.0.0 in /usr/local/lib/python3.10/dist-packages (from ipython>=4.0.0->ipywidgets->tsfm_public==0.2.7.dev29+gc9bbacf) (3.0.47)\n",
            "Requirement already satisfied: pygments in /usr/local/lib/python3.10/dist-packages (from ipython>=4.0.0->ipywidgets->tsfm_public==0.2.7.dev29+gc9bbacf) (2.16.1)\n",
            "Requirement already satisfied: backcall in /usr/local/lib/python3.10/dist-packages (from ipython>=4.0.0->ipywidgets->tsfm_public==0.2.7.dev29+gc9bbacf) (0.2.0)\n",
            "Requirement already satisfied: matplotlib-inline in /usr/local/lib/python3.10/dist-packages (from ipython>=4.0.0->ipywidgets->tsfm_public==0.2.7.dev29+gc9bbacf) (0.1.7)\n",
            "Requirement already satisfied: pexpect>4.3 in /usr/local/lib/python3.10/dist-packages (from ipython>=4.0.0->ipywidgets->tsfm_public==0.2.7.dev29+gc9bbacf) (4.9.0)\n",
            "Requirement already satisfied: charset-normalizer<4,>=2 in /usr/local/lib/python3.10/dist-packages (from requests->transformers>=4.38.0->transformers[torch]>=4.38.0->tsfm_public==0.2.7.dev29+gc9bbacf) (3.3.2)\n",
            "Requirement already satisfied: idna<4,>=2.5 in /usr/local/lib/python3.10/dist-packages (from requests->transformers>=4.38.0->transformers[torch]>=4.38.0->tsfm_public==0.2.7.dev29+gc9bbacf) (3.7)\n",
            "Requirement already satisfied: certifi>=2017.4.17 in /usr/local/lib/python3.10/dist-packages (from requests->transformers>=4.38.0->transformers[torch]>=4.38.0->tsfm_public==0.2.7.dev29+gc9bbacf) (2024.7.4)\n",
            "Requirement already satisfied: sympy in /usr/local/lib/python3.10/dist-packages (from torch->transformers[torch]>=4.38.0->tsfm_public==0.2.7.dev29+gc9bbacf) (1.13.1)\n",
            "Requirement already satisfied: networkx in /usr/local/lib/python3.10/dist-packages (from torch->transformers[torch]>=4.38.0->tsfm_public==0.2.7.dev29+gc9bbacf) (3.3)\n",
            "Requirement already satisfied: jinja2 in /usr/local/lib/python3.10/dist-packages (from torch->transformers[torch]>=4.38.0->tsfm_public==0.2.7.dev29+gc9bbacf) (3.1.4)\n",
            "Collecting nvidia-cuda-nvrtc-cu12==12.1.105 (from torch->transformers[torch]>=4.38.0->tsfm_public==0.2.7.dev29+gc9bbacf)\n",
            "  Using cached nvidia_cuda_nvrtc_cu12-12.1.105-py3-none-manylinux1_x86_64.whl.metadata (1.5 kB)\n",
            "Collecting nvidia-cuda-runtime-cu12==12.1.105 (from torch->transformers[torch]>=4.38.0->tsfm_public==0.2.7.dev29+gc9bbacf)\n",
            "  Using cached nvidia_cuda_runtime_cu12-12.1.105-py3-none-manylinux1_x86_64.whl.metadata (1.5 kB)\n",
            "Collecting nvidia-cuda-cupti-cu12==12.1.105 (from torch->transformers[torch]>=4.38.0->tsfm_public==0.2.7.dev29+gc9bbacf)\n",
            "  Using cached nvidia_cuda_cupti_cu12-12.1.105-py3-none-manylinux1_x86_64.whl.metadata (1.6 kB)\n",
            "Collecting nvidia-cudnn-cu12==8.9.2.26 (from torch->transformers[torch]>=4.38.0->tsfm_public==0.2.7.dev29+gc9bbacf)\n",
            "  Using cached nvidia_cudnn_cu12-8.9.2.26-py3-none-manylinux1_x86_64.whl.metadata (1.6 kB)\n",
            "Collecting nvidia-cublas-cu12==12.1.3.1 (from torch->transformers[torch]>=4.38.0->tsfm_public==0.2.7.dev29+gc9bbacf)\n",
            "  Using cached nvidia_cublas_cu12-12.1.3.1-py3-none-manylinux1_x86_64.whl.metadata (1.5 kB)\n",
            "Collecting nvidia-cufft-cu12==11.0.2.54 (from torch->transformers[torch]>=4.38.0->tsfm_public==0.2.7.dev29+gc9bbacf)\n",
            "  Using cached nvidia_cufft_cu12-11.0.2.54-py3-none-manylinux1_x86_64.whl.metadata (1.5 kB)\n",
            "Collecting nvidia-curand-cu12==10.3.2.106 (from torch->transformers[torch]>=4.38.0->tsfm_public==0.2.7.dev29+gc9bbacf)\n",
            "  Using cached nvidia_curand_cu12-10.3.2.106-py3-none-manylinux1_x86_64.whl.metadata (1.5 kB)\n",
            "Collecting nvidia-cusolver-cu12==11.4.5.107 (from torch->transformers[torch]>=4.38.0->tsfm_public==0.2.7.dev29+gc9bbacf)\n",
            "  Using cached nvidia_cusolver_cu12-11.4.5.107-py3-none-manylinux1_x86_64.whl.metadata (1.6 kB)\n",
            "Collecting nvidia-cusparse-cu12==12.1.0.106 (from torch->transformers[torch]>=4.38.0->tsfm_public==0.2.7.dev29+gc9bbacf)\n",
            "  Using cached nvidia_cusparse_cu12-12.1.0.106-py3-none-manylinux1_x86_64.whl.metadata (1.6 kB)\n",
            "Collecting nvidia-nccl-cu12==2.20.5 (from torch->transformers[torch]>=4.38.0->tsfm_public==0.2.7.dev29+gc9bbacf)\n",
            "  Using cached nvidia_nccl_cu12-2.20.5-py3-none-manylinux2014_x86_64.whl.metadata (1.8 kB)\n",
            "Collecting nvidia-nvtx-cu12==12.1.105 (from torch->transformers[torch]>=4.38.0->tsfm_public==0.2.7.dev29+gc9bbacf)\n",
            "  Using cached nvidia_nvtx_cu12-12.1.105-py3-none-manylinux1_x86_64.whl.metadata (1.7 kB)\n",
            "Requirement already satisfied: triton==2.3.1 in /usr/local/lib/python3.10/dist-packages (from torch->transformers[torch]>=4.38.0->tsfm_public==0.2.7.dev29+gc9bbacf) (2.3.1)\n",
            "Collecting nvidia-nvjitlink-cu12 (from nvidia-cusolver-cu12==11.4.5.107->torch->transformers[torch]>=4.38.0->tsfm_public==0.2.7.dev29+gc9bbacf)\n",
            "  Using cached nvidia_nvjitlink_cu12-12.6.20-py3-none-manylinux2014_x86_64.whl.metadata (1.5 kB)\n",
            "Requirement already satisfied: MarkupSafe>=2.1.1 in /usr/local/lib/python3.10/dist-packages (from werkzeug>=1.0.1->tensorboard->tsfm_public==0.2.7.dev29+gc9bbacf) (2.1.5)\n",
            "Requirement already satisfied: pyzmq<25,>=17 in /usr/local/lib/python3.10/dist-packages (from notebook->jupyter->tsfm_public==0.2.7.dev29+gc9bbacf) (24.0.1)\n",
            "Requirement already satisfied: argon2-cffi in /usr/local/lib/python3.10/dist-packages (from notebook->jupyter->tsfm_public==0.2.7.dev29+gc9bbacf) (23.1.0)\n",
            "Requirement already satisfied: jupyter-core>=4.6.1 in /usr/local/lib/python3.10/dist-packages (from notebook->jupyter->tsfm_public==0.2.7.dev29+gc9bbacf) (5.7.2)\n",
            "Requirement already satisfied: nbformat in /usr/local/lib/python3.10/dist-packages (from notebook->jupyter->tsfm_public==0.2.7.dev29+gc9bbacf) (5.10.4)\n",
            "Requirement already satisfied: nest-asyncio>=1.5 in /usr/local/lib/python3.10/dist-packages (from notebook->jupyter->tsfm_public==0.2.7.dev29+gc9bbacf) (1.6.0)\n",
            "Requirement already satisfied: Send2Trash>=1.8.0 in /usr/local/lib/python3.10/dist-packages (from notebook->jupyter->tsfm_public==0.2.7.dev29+gc9bbacf) (1.8.3)\n",
            "Requirement already satisfied: terminado>=0.8.3 in /usr/local/lib/python3.10/dist-packages (from notebook->jupyter->tsfm_public==0.2.7.dev29+gc9bbacf) (0.18.1)\n",
            "Requirement already satisfied: prometheus-client in /usr/local/lib/python3.10/dist-packages (from notebook->jupyter->tsfm_public==0.2.7.dev29+gc9bbacf) (0.20.0)\n",
            "Requirement already satisfied: nbclassic>=0.4.7 in /usr/local/lib/python3.10/dist-packages (from notebook->jupyter->tsfm_public==0.2.7.dev29+gc9bbacf) (1.1.0)\n",
            "Requirement already satisfied: lxml in /usr/local/lib/python3.10/dist-packages (from nbconvert->jupyter->tsfm_public==0.2.7.dev29+gc9bbacf) (4.9.4)\n",
            "Requirement already satisfied: beautifulsoup4 in /usr/local/lib/python3.10/dist-packages (from nbconvert->jupyter->tsfm_public==0.2.7.dev29+gc9bbacf) (4.12.3)\n",
            "Requirement already satisfied: bleach in /usr/local/lib/python3.10/dist-packages (from nbconvert->jupyter->tsfm_public==0.2.7.dev29+gc9bbacf) (6.1.0)\n",
            "Requirement already satisfied: defusedxml in /usr/local/lib/python3.10/dist-packages (from nbconvert->jupyter->tsfm_public==0.2.7.dev29+gc9bbacf) (0.7.1)\n",
            "Requirement already satisfied: entrypoints>=0.2.2 in /usr/local/lib/python3.10/dist-packages (from nbconvert->jupyter->tsfm_public==0.2.7.dev29+gc9bbacf) (0.4)\n",
            "Requirement already satisfied: jupyterlab-pygments in /usr/local/lib/python3.10/dist-packages (from nbconvert->jupyter->tsfm_public==0.2.7.dev29+gc9bbacf) (0.3.0)\n",
            "Requirement already satisfied: mistune<2,>=0.8.1 in /usr/local/lib/python3.10/dist-packages (from nbconvert->jupyter->tsfm_public==0.2.7.dev29+gc9bbacf) (0.8.4)\n",
            "Requirement already satisfied: nbclient>=0.5.0 in /usr/local/lib/python3.10/dist-packages (from nbconvert->jupyter->tsfm_public==0.2.7.dev29+gc9bbacf) (0.10.0)\n",
            "Requirement already satisfied: pandocfilters>=1.4.1 in /usr/local/lib/python3.10/dist-packages (from nbconvert->jupyter->tsfm_public==0.2.7.dev29+gc9bbacf) (1.5.1)\n",
            "Requirement already satisfied: tinycss2 in /usr/local/lib/python3.10/dist-packages (from nbconvert->jupyter->tsfm_public==0.2.7.dev29+gc9bbacf) (1.3.0)\n",
            "Collecting qtpy>=2.4.0 (from qtconsole->jupyter->tsfm_public==0.2.7.dev29+gc9bbacf)\n",
            "  Downloading QtPy-2.4.1-py3-none-any.whl.metadata (12 kB)\n",
            "Requirement already satisfied: parso<0.9.0,>=0.8.3 in /usr/local/lib/python3.10/dist-packages (from jedi>=0.16->ipython>=4.0.0->ipywidgets->tsfm_public==0.2.7.dev29+gc9bbacf) (0.8.4)\n",
            "Requirement already satisfied: platformdirs>=2.5 in /usr/local/lib/python3.10/dist-packages (from jupyter-core>=4.6.1->notebook->jupyter->tsfm_public==0.2.7.dev29+gc9bbacf) (4.2.2)\n",
            "Requirement already satisfied: notebook-shim>=0.2.3 in /usr/local/lib/python3.10/dist-packages (from nbclassic>=0.4.7->notebook->jupyter->tsfm_public==0.2.7.dev29+gc9bbacf) (0.2.4)\n",
            "Requirement already satisfied: fastjsonschema>=2.15 in /usr/local/lib/python3.10/dist-packages (from nbformat->notebook->jupyter->tsfm_public==0.2.7.dev29+gc9bbacf) (2.20.0)\n",
            "Requirement already satisfied: jsonschema>=2.6 in /usr/local/lib/python3.10/dist-packages (from nbformat->notebook->jupyter->tsfm_public==0.2.7.dev29+gc9bbacf) (4.23.0)\n",
            "Requirement already satisfied: ptyprocess>=0.5 in /usr/local/lib/python3.10/dist-packages (from pexpect>4.3->ipython>=4.0.0->ipywidgets->tsfm_public==0.2.7.dev29+gc9bbacf) (0.7.0)\n",
            "Requirement already satisfied: wcwidth in /usr/local/lib/python3.10/dist-packages (from prompt-toolkit!=3.0.0,!=3.0.1,<3.1.0,>=2.0.0->ipython>=4.0.0->ipywidgets->tsfm_public==0.2.7.dev29+gc9bbacf) (0.2.13)\n",
            "Requirement already satisfied: argon2-cffi-bindings in /usr/local/lib/python3.10/dist-packages (from argon2-cffi->notebook->jupyter->tsfm_public==0.2.7.dev29+gc9bbacf) (21.2.0)\n",
            "Requirement already satisfied: soupsieve>1.2 in /usr/local/lib/python3.10/dist-packages (from beautifulsoup4->nbconvert->jupyter->tsfm_public==0.2.7.dev29+gc9bbacf) (2.5)\n",
            "Requirement already satisfied: webencodings in /usr/local/lib/python3.10/dist-packages (from bleach->nbconvert->jupyter->tsfm_public==0.2.7.dev29+gc9bbacf) (0.5.1)\n",
            "Requirement already satisfied: mpmath<1.4,>=1.1.0 in /usr/local/lib/python3.10/dist-packages (from sympy->torch->transformers[torch]>=4.38.0->tsfm_public==0.2.7.dev29+gc9bbacf) (1.3.0)\n",
            "Requirement already satisfied: jsonschema-specifications>=2023.03.6 in /usr/local/lib/python3.10/dist-packages (from jsonschema>=2.6->nbformat->notebook->jupyter->tsfm_public==0.2.7.dev29+gc9bbacf) (2023.12.1)\n",
            "Requirement already satisfied: referencing>=0.28.4 in /usr/local/lib/python3.10/dist-packages (from jsonschema>=2.6->nbformat->notebook->jupyter->tsfm_public==0.2.7.dev29+gc9bbacf) (0.35.1)\n",
            "Requirement already satisfied: rpds-py>=0.7.1 in /usr/local/lib/python3.10/dist-packages (from jsonschema>=2.6->nbformat->notebook->jupyter->tsfm_public==0.2.7.dev29+gc9bbacf) (0.19.1)\n",
            "Requirement already satisfied: jupyter-server<3,>=1.8 in /usr/local/lib/python3.10/dist-packages (from notebook-shim>=0.2.3->nbclassic>=0.4.7->notebook->jupyter->tsfm_public==0.2.7.dev29+gc9bbacf) (1.24.0)\n",
            "Requirement already satisfied: cffi>=1.0.1 in /usr/local/lib/python3.10/dist-packages (from argon2-cffi-bindings->argon2-cffi->notebook->jupyter->tsfm_public==0.2.7.dev29+gc9bbacf) (1.16.0)\n",
            "Requirement already satisfied: pycparser in /usr/local/lib/python3.10/dist-packages (from cffi>=1.0.1->argon2-cffi-bindings->argon2-cffi->notebook->jupyter->tsfm_public==0.2.7.dev29+gc9bbacf) (2.22)\n",
            "Requirement already satisfied: anyio<4,>=3.1.0 in /usr/local/lib/python3.10/dist-packages (from jupyter-server<3,>=1.8->notebook-shim>=0.2.3->nbclassic>=0.4.7->notebook->jupyter->tsfm_public==0.2.7.dev29+gc9bbacf) (3.7.1)\n",
            "Requirement already satisfied: websocket-client in /usr/local/lib/python3.10/dist-packages (from jupyter-server<3,>=1.8->notebook-shim>=0.2.3->nbclassic>=0.4.7->notebook->jupyter->tsfm_public==0.2.7.dev29+gc9bbacf) (1.8.0)\n",
            "Requirement already satisfied: sniffio>=1.1 in /usr/local/lib/python3.10/dist-packages (from anyio<4,>=3.1.0->jupyter-server<3,>=1.8->notebook-shim>=0.2.3->nbclassic>=0.4.7->notebook->jupyter->tsfm_public==0.2.7.dev29+gc9bbacf) (1.3.1)\n",
            "Requirement already satisfied: exceptiongroup in /usr/local/lib/python3.10/dist-packages (from anyio<4,>=3.1.0->jupyter-server<3,>=1.8->notebook-shim>=0.2.3->nbclassic>=0.4.7->notebook->jupyter->tsfm_public==0.2.7.dev29+gc9bbacf) (1.2.2)\n",
            "Downloading pandas-2.2.2-cp310-cp310-manylinux_2_17_x86_64.manylinux2014_x86_64.whl (13.0 MB)\n",
            "\u001b[2K   \u001b[90m━━━━━━━━━━━━━━━━━━━━━━━━━━━━━━━━━━━━━━━━\u001b[0m \u001b[32m13.0/13.0 MB\u001b[0m \u001b[31m73.9 MB/s\u001b[0m eta \u001b[36m0:00:00\u001b[0m\n",
            "\u001b[?25hDownloading urllib3-1.26.19-py2.py3-none-any.whl (143 kB)\n",
            "\u001b[2K   \u001b[90m━━━━━━━━━━━━━━━━━━━━━━━━━━━━━━━━━━━━━━━━\u001b[0m \u001b[32m143.9/143.9 kB\u001b[0m \u001b[31m10.7 MB/s\u001b[0m eta \u001b[36m0:00:00\u001b[0m\n",
            "\u001b[?25hDownloading datasets-2.20.0-py3-none-any.whl (547 kB)\n",
            "\u001b[2K   \u001b[90m━━━━━━━━━━━━━━━━━━━━━━━━━━━━━━━━━━━━━━━━\u001b[0m \u001b[32m547.8/547.8 kB\u001b[0m \u001b[31m28.2 MB/s\u001b[0m eta \u001b[36m0:00:00\u001b[0m\n",
            "\u001b[?25hDownloading Deprecated-1.2.14-py2.py3-none-any.whl (9.6 kB)\n",
            "Downloading jupyter-1.0.0-py2.py3-none-any.whl (2.7 kB)\n",
            "Downloading kaleido-0.2.1-py2.py3-none-manylinux1_x86_64.whl (79.9 MB)\n",
            "\u001b[2K   \u001b[90m━━━━━━━━━━━━━━━━━━━━━━━━━━━━━━━━━━━━━━━━\u001b[0m \u001b[32m79.9/79.9 MB\u001b[0m \u001b[31m8.4 MB/s\u001b[0m eta \u001b[36m0:00:00\u001b[0m\n",
            "\u001b[?25hDownloading dill-0.3.8-py3-none-any.whl (116 kB)\n",
            "\u001b[2K   \u001b[90m━━━━━━━━━━━━━━━━━━━━━━━━━━━━━━━━━━━━━━━━\u001b[0m \u001b[32m116.3/116.3 kB\u001b[0m \u001b[31m8.7 MB/s\u001b[0m eta \u001b[36m0:00:00\u001b[0m\n",
            "\u001b[?25hDownloading fsspec-2024.5.0-py3-none-any.whl (316 kB)\n",
            "\u001b[2K   \u001b[90m━━━━━━━━━━━━━━━━━━━━━━━━━━━━━━━━━━━━━━━━\u001b[0m \u001b[32m316.1/316.1 kB\u001b[0m \u001b[31m23.2 MB/s\u001b[0m eta \u001b[36m0:00:00\u001b[0m\n",
            "\u001b[?25hDownloading pyarrow-17.0.0-cp310-cp310-manylinux_2_28_x86_64.whl (39.9 MB)\n",
            "\u001b[2K   \u001b[90m━━━━━━━━━━━━━━━━━━━━━━━━━━━━━━━━━━━━━━━━\u001b[0m \u001b[32m39.9/39.9 MB\u001b[0m \u001b[31m12.7 MB/s\u001b[0m eta \u001b[36m0:00:00\u001b[0m\n",
            "\u001b[?25hUsing cached nvidia_cublas_cu12-12.1.3.1-py3-none-manylinux1_x86_64.whl (410.6 MB)\n",
            "Using cached nvidia_cuda_cupti_cu12-12.1.105-py3-none-manylinux1_x86_64.whl (14.1 MB)\n",
            "Using cached nvidia_cuda_nvrtc_cu12-12.1.105-py3-none-manylinux1_x86_64.whl (23.7 MB)\n",
            "Using cached nvidia_cuda_runtime_cu12-12.1.105-py3-none-manylinux1_x86_64.whl (823 kB)\n",
            "Using cached nvidia_cudnn_cu12-8.9.2.26-py3-none-manylinux1_x86_64.whl (731.7 MB)\n",
            "Using cached nvidia_cufft_cu12-11.0.2.54-py3-none-manylinux1_x86_64.whl (121.6 MB)\n",
            "Using cached nvidia_curand_cu12-10.3.2.106-py3-none-manylinux1_x86_64.whl (56.5 MB)\n",
            "Using cached nvidia_cusolver_cu12-11.4.5.107-py3-none-manylinux1_x86_64.whl (124.2 MB)\n",
            "Using cached nvidia_cusparse_cu12-12.1.0.106-py3-none-manylinux1_x86_64.whl (196.0 MB)\n",
            "Using cached nvidia_nccl_cu12-2.20.5-py3-none-manylinux2014_x86_64.whl (176.2 MB)\n",
            "Using cached nvidia_nvtx_cu12-12.1.105-py3-none-manylinux1_x86_64.whl (99 kB)\n",
            "Downloading multiprocess-0.70.16-py310-none-any.whl (134 kB)\n",
            "\u001b[2K   \u001b[90m━━━━━━━━━━━━━━━━━━━━━━━━━━━━━━━━━━━━━━━━\u001b[0m \u001b[32m134.8/134.8 kB\u001b[0m \u001b[31m207.0 kB/s\u001b[0m eta \u001b[36m0:00:00\u001b[0m\n",
            "\u001b[?25hDownloading qtconsole-5.5.2-py3-none-any.whl (123 kB)\n",
            "\u001b[2K   \u001b[90m━━━━━━━━━━━━━━━━━━━━━━━━━━━━━━━━━━━━━━━━\u001b[0m \u001b[32m123.4/123.4 kB\u001b[0m \u001b[31m9.9 MB/s\u001b[0m eta \u001b[36m0:00:00\u001b[0m\n",
            "\u001b[?25hDownloading xxhash-3.4.1-cp310-cp310-manylinux_2_17_x86_64.manylinux2014_x86_64.whl (194 kB)\n",
            "\u001b[2K   \u001b[90m━━━━━━━━━━━━━━━━━━━━━━━━━━━━━━━━━━━━━━━━\u001b[0m \u001b[32m194.1/194.1 kB\u001b[0m \u001b[31m14.8 MB/s\u001b[0m eta \u001b[36m0:00:00\u001b[0m\n",
            "\u001b[?25hUsing cached jedi-0.19.1-py2.py3-none-any.whl (1.6 MB)\n",
            "Downloading QtPy-2.4.1-py3-none-any.whl (93 kB)\n",
            "\u001b[2K   \u001b[90m━━━━━━━━━━━━━━━━━━━━━━━━━━━━━━━━━━━━━━━━\u001b[0m \u001b[32m93.5/93.5 kB\u001b[0m \u001b[31m5.1 MB/s\u001b[0m eta \u001b[36m0:00:00\u001b[0m\n",
            "\u001b[?25hUsing cached nvidia_nvjitlink_cu12-12.6.20-py3-none-manylinux2014_x86_64.whl (19.7 MB)\n",
            "Building wheels for collected packages: tsfm_public\n",
            "  Building wheel for tsfm_public (pyproject.toml) ... \u001b[?25l\u001b[?25hdone\n",
            "  Created wheel for tsfm_public: filename=tsfm_public-0.2.7.dev29+gc9bbacf-py3-none-any.whl size=2310549 sha256=d66920bd7ee32243bc10d5b1dd23df7fd0ca2d7a51ce85c8122f92fc801cc552\n",
            "  Stored in directory: /tmp/pip-ephem-wheel-cache-_0tz3vvc/wheels/e9/20/7b/f24e56ba9d8579543ce061a463fd712b1ce5615e71da6748c0\n",
            "Successfully built tsfm_public\n",
            "Installing collected packages: kaleido, xxhash, urllib3, qtpy, pyarrow, nvidia-nvtx-cu12, nvidia-nvjitlink-cu12, nvidia-nccl-cu12, nvidia-curand-cu12, nvidia-cufft-cu12, nvidia-cuda-runtime-cu12, nvidia-cuda-nvrtc-cu12, nvidia-cuda-cupti-cu12, nvidia-cublas-cu12, jedi, fsspec, dill, deprecated, pandas, nvidia-cusparse-cu12, nvidia-cudnn-cu12, multiprocess, nvidia-cusolver-cu12, qtconsole, datasets, tsfm_public, jupyter\n",
            "  Attempting uninstall: urllib3\n",
            "    Found existing installation: urllib3 2.0.7\n",
            "    Uninstalling urllib3-2.0.7:\n",
            "      Successfully uninstalled urllib3-2.0.7\n",
            "  Attempting uninstall: pyarrow\n",
            "    Found existing installation: pyarrow 14.0.2\n",
            "    Uninstalling pyarrow-14.0.2:\n",
            "      Successfully uninstalled pyarrow-14.0.2\n",
            "  Attempting uninstall: fsspec\n",
            "    Found existing installation: fsspec 2024.6.1\n",
            "    Uninstalling fsspec-2024.6.1:\n",
            "      Successfully uninstalled fsspec-2024.6.1\n",
            "  Attempting uninstall: pandas\n",
            "    Found existing installation: pandas 2.1.4\n",
            "    Uninstalling pandas-2.1.4:\n",
            "      Successfully uninstalled pandas-2.1.4\n",
            "\u001b[31mERROR: pip's dependency resolver does not currently take into account all the packages that are installed. This behaviour is the source of the following dependency conflicts.\n",
            "cudf-cu12 24.4.1 requires pandas<2.2.2dev0,>=2.0, but you have pandas 2.2.2 which is incompatible.\n",
            "cudf-cu12 24.4.1 requires pyarrow<15.0.0a0,>=14.0.1, but you have pyarrow 17.0.0 which is incompatible.\n",
            "gcsfs 2024.6.1 requires fsspec==2024.6.1, but you have fsspec 2024.5.0 which is incompatible.\n",
            "google-colab 1.0.0 requires pandas==2.1.4, but you have pandas 2.2.2 which is incompatible.\n",
            "ibis-framework 8.0.0 requires pyarrow<16,>=2, but you have pyarrow 17.0.0 which is incompatible.\u001b[0m\u001b[31m\n",
            "\u001b[0mSuccessfully installed datasets-2.20.0 deprecated-1.2.14 dill-0.3.8 fsspec-2024.5.0 jedi-0.19.1 jupyter-1.0.0 kaleido-0.2.1 multiprocess-0.70.16 nvidia-cublas-cu12-12.1.3.1 nvidia-cuda-cupti-cu12-12.1.105 nvidia-cuda-nvrtc-cu12-12.1.105 nvidia-cuda-runtime-cu12-12.1.105 nvidia-cudnn-cu12-8.9.2.26 nvidia-cufft-cu12-11.0.2.54 nvidia-curand-cu12-10.3.2.106 nvidia-cusolver-cu12-11.4.5.107 nvidia-cusparse-cu12-12.1.0.106 nvidia-nccl-cu12-2.20.5 nvidia-nvjitlink-cu12-12.6.20 nvidia-nvtx-cu12-12.1.105 pandas-2.2.2 pyarrow-17.0.0 qtconsole-5.5.2 qtpy-2.4.1 tsfm_public-0.2.7.dev29+gc9bbacf urllib3-1.26.19 xxhash-3.4.1\n"
          ]
        },
        {
          "output_type": "display_data",
          "data": {
            "application/vnd.colab-display-data+json": {
              "pip_warning": {
                "packages": [
                  "pyarrow",
                  "tsfm_public",
                  "urllib3"
                ]
              },
              "id": "3224f8f048014b9d8a40e9d33d2f2a9c"
            }
          },
          "metadata": {}
        }
      ]
    },
    {
      "cell_type": "code",
      "execution_count": 1,
      "id": "f63ae353-96df-4380-89f6-1e6cebf684fb",
      "metadata": {
        "id": "f63ae353-96df-4380-89f6-1e6cebf684fb"
      },
      "outputs": [],
      "source": [
        "# Standard\n",
        "import os\n",
        "import random\n",
        "\n",
        "# Third Party\n",
        "from transformers import (\n",
        "    EarlyStoppingCallback,\n",
        "    PatchTSMixerConfig,\n",
        "    PatchTSMixerForPrediction,\n",
        "    Trainer,\n",
        "    TrainingArguments,\n",
        ")\n",
        "import numpy as np\n",
        "import pandas as pd\n",
        "import torch\n",
        "\n",
        "# First Party\n",
        "from tsfm_public.toolkit.dataset import ForecastDFDataset\n",
        "from tsfm_public.toolkit.time_series_preprocessor import TimeSeriesPreprocessor\n",
        "from tsfm_public.toolkit.util import select_by_index"
      ]
    },
    {
      "cell_type": "code",
      "execution_count": 2,
      "id": "a826c4f3-1c6c-4088-b6af-f430f45fd380",
      "metadata": {
        "id": "a826c4f3-1c6c-4088-b6af-f430f45fd380"
      },
      "outputs": [],
      "source": [
        "# Set seed for reproducibility\n",
        "SEED = 42\n",
        "torch.manual_seed(SEED)\n",
        "random.seed(SEED)\n",
        "np.random.seed(SEED)"
      ]
    },
    {
      "cell_type": "markdown",
      "id": "9e4eb9be-c19f-448f-a4bd-c600e068633f",
      "metadata": {
        "id": "9e4eb9be-c19f-448f-a4bd-c600e068633f"
      },
      "source": [
        "## Load and prepare datasets\n",
        "\n",
        "In the next cell, please adjust the following parameters to suit your application:\n",
        "- `dataset_path`: path to local .csv file, or web address to a csv file for the data of interest. Data is loaded with pandas, so anything supported by\n",
        "`pd.read_csv` is supported: (https://pandas.pydata.org/pandas-docs/stable/reference/api/pandas.read_csv.html).\n",
        "- `timestamp_column`: column name containing timestamp information, use None if there is no such column\n",
        "- `id_columns`: List of column names specifying the IDs of different time series. If no ID column exists, use []\n",
        "- `forecast_columns`: List of columns to be modeled\n",
        "- `context_length`: The amount of historical data used as input to the model. Windows of the input time series data with length equal to\n",
        "context_length will be extracted from the input dataframe. In the case of a multi-time series dataset, the context windows will be created\n",
        "so that they are contained within a single time series (i.e., a single ID).\n",
        "- `forecast_horizon`: Number of time stamps to forecast in future.\n",
        "- `train_start_index`, `train_end_index`: the start and end indices in the loaded data which delineate the training data.\n",
        "- `valid_start_index`, `valid_end_index`: the start and end indices in the loaded data which delineate the validation data.\n",
        "- `test_start_index`, `test_end_index`: the start and end indices in the loaded data which delineate the test data.\n",
        "- `patch_length`: The patch length for the `PatchTSMixer` model. Recommended to have a value so that `context_length` is divisible by it.\n",
        "- `num_workers`: Number of dataloder workers in pytorch dataloader.\n",
        "- `batch_size`: Batch size.\n",
        "The data is first loaded into a Pandas dataframe and split into training, validation, and test parts. Then the pandas dataframes are converted\n",
        "to the appropriate torch dataset needed for training."
      ]
    },
    {
      "cell_type": "code",
      "execution_count": 13,
      "id": "d4c1e812-f2d6-4ccb-a79c-47879b562d85",
      "metadata": {
        "id": "d4c1e812-f2d6-4ccb-a79c-47879b562d85"
      },
      "outputs": [],
      "source": [
        "# dataset = \"ETTh1\"\n",
        "num_workers = 8  # Reduce this if you have low number of CPU cores\n",
        "batch_size = 32  # Reduce if not enough GPU memory available\n",
        "context_length = 512\n",
        "forecast_horizon = 96\n",
        "patch_length = 8"
      ]
    },
    {
      "cell_type": "code",
      "execution_count": 14,
      "id": "19ca5a76-64d4-4f8d-92f5-67f76c1685fd",
      "metadata": {
        "id": "19ca5a76-64d4-4f8d-92f5-67f76c1685fd"
      },
      "outputs": [],
      "source": [
        "# print(f\"Loading target dataset: {dataset}\")\n",
        "# dataset_path = f\"https://raw.githubusercontent.com/zhouhaoyi/ETDataset/main/ETT-small/{dataset}.csv\"\n",
        "dataset_path = \"/content/sample_data/MES_total_renewables_CN.csv\"\n",
        "timestamp_column = \"Time\"\n",
        "id_columns = []\n",
        "forecast_columns = [\"Value(GWh)\"]\n",
        "train_start_index = None  # None indicates beginning of dataset\n",
        "# train_end_index = 12 * 30 * 24\n",
        "train_end_index = 79\n",
        "\n",
        "# we shift the start of the validation/test period back by context length so that\n",
        "# the first validation/test timestamp is immediately following the training data\n",
        "# valid_start_index = 12 * 30 * 24 - context_length\n",
        "# valid_end_index = 12 * 30 * 24 + 4 * 30 * 24\n",
        "valid_start_index = 63\n",
        "valid_end_index = 79 + 32\n",
        "\n",
        "test_start_index = 95\n",
        "test_end_index = 79 + 32"
      ]
    },
    {
      "cell_type": "code",
      "execution_count": 15,
      "id": "0e856ce6-11e9-4c8c-9aeb-3e4a8b05f3eb",
      "metadata": {
        "colab": {
          "base_uri": "https://localhost:8080/"
        },
        "id": "0e856ce6-11e9-4c8c-9aeb-3e4a8b05f3eb",
        "outputId": "99f2e24e-ae91-4147-b9e2-f1737341c61d"
      },
      "outputs": [
        {
          "output_type": "execute_result",
          "data": {
            "text/plain": [
              "TimeSeriesPreprocessor {\n",
              "  \"categorical_encoder\": null,\n",
              "  \"conditional_columns\": [],\n",
              "  \"context_length\": 64,\n",
              "  \"control_columns\": [],\n",
              "  \"encode_categorical\": true,\n",
              "  \"feature_extractor_type\": \"TimeSeriesPreprocessor\",\n",
              "  \"freq\": \"30 days 00:00:00\",\n",
              "  \"frequency_mapping\": {\n",
              "    \"10min\": 4,\n",
              "    \"15min\": 5,\n",
              "    \"2min\": 2,\n",
              "    \"30min\": 6,\n",
              "    \"5min\": 3,\n",
              "    \"W\": 9,\n",
              "    \"d\": 8,\n",
              "    \"h\": 7,\n",
              "    \"min\": 1,\n",
              "    \"oov\": 0\n",
              "  },\n",
              "  \"id_columns\": [],\n",
              "  \"observable_columns\": [],\n",
              "  \"prediction_length\": null,\n",
              "  \"processor_class\": \"TimeSeriesPreprocessor\",\n",
              "  \"scaler_dict\": {},\n",
              "  \"scaler_type\": \"standard\",\n",
              "  \"scaling\": true,\n",
              "  \"scaling_id_columns\": [],\n",
              "  \"static_categorical_columns\": [],\n",
              "  \"target_columns\": [\n",
              "    \"Value(GWh)\"\n",
              "  ],\n",
              "  \"target_scaler_dict\": {\n",
              "    \"0\": {\n",
              "      \"copy\": true,\n",
              "      \"feature_names_in_\": [\n",
              "        \"Value(GWh)\"\n",
              "      ],\n",
              "      \"mean_\": [\n",
              "        149521.40934177212\n",
              "      ],\n",
              "      \"n_features_in_\": 1,\n",
              "      \"n_samples_seen_\": 79,\n",
              "      \"scale_\": [\n",
              "        35831.741047819116\n",
              "      ],\n",
              "      \"var_\": [\n",
              "        1283913666.5179653\n",
              "      ],\n",
              "      \"with_mean\": true,\n",
              "      \"with_std\": true\n",
              "    }\n",
              "  },\n",
              "  \"time_series_task\": \"forecasting\",\n",
              "  \"timestamp_column\": \"Time\"\n",
              "}"
            ]
          },
          "metadata": {},
          "execution_count": 15
        }
      ],
      "source": [
        "data = pd.read_csv(\n",
        "    dataset_path,\n",
        "    parse_dates=[timestamp_column],\n",
        ")\n",
        "\n",
        "train_data = select_by_index(\n",
        "    data,\n",
        "    id_columns=id_columns,\n",
        "    start_index=train_start_index,\n",
        "    end_index=train_end_index,\n",
        ")\n",
        "valid_data = select_by_index(\n",
        "    data,\n",
        "    id_columns=id_columns,\n",
        "    start_index=valid_start_index,\n",
        "    end_index=valid_end_index,\n",
        ")\n",
        "test_data = select_by_index(\n",
        "    data,\n",
        "    id_columns=id_columns,\n",
        "    start_index=test_start_index,\n",
        "    end_index=test_end_index,\n",
        ")\n",
        "\n",
        "tsp = TimeSeriesPreprocessor(\n",
        "    timestamp_column=timestamp_column,\n",
        "    id_columns=id_columns,\n",
        "    target_columns=forecast_columns,\n",
        "    scaling=True,\n",
        ")\n",
        "tsp.train(train_data)"
      ]
    },
    {
      "cell_type": "code",
      "execution_count": 16,
      "id": "678d849d-41fc-450d-a855-1dde27179b31",
      "metadata": {
        "id": "678d849d-41fc-450d-a855-1dde27179b31"
      },
      "outputs": [],
      "source": [
        "train_dataset = ForecastDFDataset(\n",
        "    tsp.preprocess(train_data),\n",
        "    id_columns=id_columns,\n",
        "    target_columns=forecast_columns,\n",
        "    context_length=context_length,\n",
        "    prediction_length=forecast_horizon,\n",
        ")\n",
        "valid_dataset = ForecastDFDataset(\n",
        "    tsp.preprocess(valid_data),\n",
        "    id_columns=id_columns,\n",
        "    target_columns=forecast_columns,\n",
        "    context_length=context_length,\n",
        "    prediction_length=forecast_horizon,\n",
        ")\n",
        "test_dataset = ForecastDFDataset(\n",
        "    tsp.preprocess(test_data),\n",
        "    id_columns=id_columns,\n",
        "    target_columns=forecast_columns,\n",
        "    context_length=context_length,\n",
        "    prediction_length=forecast_horizon,\n",
        ")"
      ]
    },
    {
      "cell_type": "markdown",
      "id": "ae939491-8813-44c9-bc3d-d1c6a5764cd4",
      "metadata": {
        "id": "ae939491-8813-44c9-bc3d-d1c6a5764cd4"
      },
      "source": [
        "## Testing with a `PatchTSMixer` model that was trained on the training part of the `ETTh1` data\n",
        "\n",
        "A pre-trained model (on `ETTh1` data) is available at [ibm-granite/granite-timeseries-patchtsmixer](https://huggingface.co/ibm-granite/granite-timeseries-patchtsmixer)."
      ]
    },
    {
      "cell_type": "code",
      "execution_count": 17,
      "id": "b839a219-14b9-4445-aa37-f0e466a35e62",
      "metadata": {
        "colab": {
          "base_uri": "https://localhost:8080/"
        },
        "id": "b839a219-14b9-4445-aa37-f0e466a35e62",
        "outputId": "7bcceef4-9130-4a78-c70a-19a1ce7cb202"
      },
      "outputs": [
        {
          "output_type": "stream",
          "name": "stdout",
          "text": [
            "Loading pretrained model\n",
            "Done\n"
          ]
        }
      ],
      "source": [
        "print(\"Loading pretrained model\")\n",
        "inference_forecast_model = PatchTSMixerForPrediction.from_pretrained(\n",
        "    \"ibm-granite/granite-timeseries-patchtsmixer\"\n",
        ")\n",
        "print(\"Done\")"
      ]
    },
    {
      "cell_type": "code",
      "execution_count": 18,
      "id": "9b17c69f-f44d-4ccc-b8d4-5dd34cd1b43e",
      "metadata": {
        "colab": {
          "base_uri": "https://localhost:8080/",
          "height": 129
        },
        "id": "9b17c69f-f44d-4ccc-b8d4-5dd34cd1b43e",
        "outputId": "ab3e3c93-28b0-403b-9412-bad8f3c03793"
      },
      "outputs": [
        {
          "output_type": "stream",
          "name": "stdout",
          "text": [
            "\n",
            "\n",
            "Doing testing on MEA/test data\n"
          ]
        },
        {
          "output_type": "display_data",
          "data": {
            "text/plain": [
              "<IPython.core.display.HTML object>"
            ],
            "text/html": [
              "\n",
              "    <div>\n",
              "      \n",
              "      <progress value='1' max='1' style='width:300px; height:20px; vertical-align: middle;'></progress>\n",
              "      [1/1 : < :]\n",
              "    </div>\n",
              "    "
            ]
          },
          "metadata": {}
        },
        {
          "output_type": "stream",
          "name": "stdout",
          "text": [
            "{'eval_loss': 1.0162259340286255, 'eval_runtime': 0.1241, 'eval_samples_per_second': 8.058, 'eval_steps_per_second': 8.058}\n"
          ]
        }
      ],
      "source": [
        "inference_forecast_trainer = Trainer(\n",
        "    model=inference_forecast_model,\n",
        ")\n",
        "\n",
        "print(\"\\n\\nDoing testing on MEA/test data\")\n",
        "result = inference_forecast_trainer.evaluate(test_dataset)\n",
        "print(result)"
      ]
    },
    {
      "cell_type": "markdown",
      "id": "19456329-1293-45bf-99c7-e5ccf0534846",
      "metadata": {
        "id": "19456329-1293-45bf-99c7-e5ccf0534846"
      },
      "source": [
        "## If we want to train from scratch\n",
        "\n",
        "Adjust the following model parameters according to need.\n",
        "- `d_model` (`int`, *optional*, defaults to 8):\n",
        "    Hidden dimension of the model. Recommended to set it as a multiple of patch_length (i.e. 2-8X of\n",
        "    patch_len). Larger value indicates more complex model.\n",
        "- `expansion_factor` (`int`, *optional*, defaults to 2):\n",
        "    Expansion factor to use inside MLP. Recommended range is 2-5. Larger value indicates more complex model.\n",
        "- `num_layers` (`int`, *optional*, defaults to 3):\n",
        "    Number of layers to use. Recommended range is 3-15. Larger value indicates more complex model."
      ]
    },
    {
      "cell_type": "code",
      "execution_count": null,
      "id": "226b904e-1ab2-478b-98b4-ce99bc23f1c6",
      "metadata": {
        "id": "226b904e-1ab2-478b-98b4-ce99bc23f1c6"
      },
      "outputs": [],
      "source": [
        "config = PatchTSMixerConfig(\n",
        "    context_length=context_length,\n",
        "    prediction_length=forecast_horizon,\n",
        "    patch_length=patch_length,\n",
        "    num_input_channels=len(forecast_columns),\n",
        "    patch_stride=patch_length,\n",
        "    d_model=48,\n",
        "    num_layers=3,\n",
        "    expansion_factor=3,\n",
        "    dropout=0.5,\n",
        "    head_dropout=0.7,\n",
        "    mode=\"common_channel\",  # change it `mix_channel` if we need to explicitly model channel correlations\n",
        "    scaling=\"std\",\n",
        ")\n",
        "model = PatchTSMixerForPrediction(config=config)"
      ]
    },
    {
      "cell_type": "code",
      "execution_count": null,
      "id": "27812e8c-c0f6-45e3-a075-310929329460",
      "metadata": {
        "id": "27812e8c-c0f6-45e3-a075-310929329460",
        "outputId": "4e8a3ebd-a111-4007-e5fd-306730870a58"
      },
      "outputs": [
        {
          "name": "stdout",
          "output_type": "stream",
          "text": [
            "\n",
            "\n",
            "Doing forecasting training on Etth1/train\n"
          ]
        },
        {
          "data": {
            "text/html": [
              "\n",
              "    <div>\n",
              "      \n",
              "      <progress value='2016' max='25200' style='width:300px; height:20px; vertical-align: middle;'></progress>\n",
              "      [ 2016/25200 00:26 < 05:03, 76.43 it/s, Epoch 8/100]\n",
              "    </div>\n",
              "    <table border=\"1\" class=\"dataframe\">\n",
              "  <thead>\n",
              " <tr style=\"text-align: left;\">\n",
              "      <th>Epoch</th>\n",
              "      <th>Training Loss</th>\n",
              "      <th>Validation Loss</th>\n",
              "    </tr>\n",
              "  </thead>\n",
              "  <tbody>\n",
              "    <tr>\n",
              "      <td>1</td>\n",
              "      <td>0.499100</td>\n",
              "      <td>0.705115</td>\n",
              "    </tr>\n",
              "    <tr>\n",
              "      <td>2</td>\n",
              "      <td>0.406400</td>\n",
              "      <td>0.689810</td>\n",
              "    </tr>\n",
              "    <tr>\n",
              "      <td>3</td>\n",
              "      <td>0.382100</td>\n",
              "      <td>0.681682</td>\n",
              "    </tr>\n",
              "    <tr>\n",
              "      <td>4</td>\n",
              "      <td>0.366600</td>\n",
              "      <td>0.681303</td>\n",
              "    </tr>\n",
              "    <tr>\n",
              "      <td>5</td>\n",
              "      <td>0.358800</td>\n",
              "      <td>0.684668</td>\n",
              "    </tr>\n",
              "    <tr>\n",
              "      <td>6</td>\n",
              "      <td>0.351900</td>\n",
              "      <td>0.690913</td>\n",
              "    </tr>\n",
              "    <tr>\n",
              "      <td>7</td>\n",
              "      <td>0.347900</td>\n",
              "      <td>0.690822</td>\n",
              "    </tr>\n",
              "    <tr>\n",
              "      <td>8</td>\n",
              "      <td>0.347600</td>\n",
              "      <td>0.701287</td>\n",
              "    </tr>\n",
              "  </tbody>\n",
              "</table><p>"
            ],
            "text/plain": [
              "<IPython.core.display.HTML object>"
            ]
          },
          "metadata": {},
          "output_type": "display_data"
        },
        {
          "data": {
            "text/plain": [
              "TrainOutput(global_step=2016, training_loss=0.3825622891622876, metrics={'train_runtime': 28.0282, 'train_samples_per_second': 28660.44, 'train_steps_per_second': 899.095, 'total_flos': 597127745765376.0, 'train_loss': 0.3825622891622876, 'epoch': 8.0})"
            ]
          },
          "execution_count": 11,
          "metadata": {},
          "output_type": "execute_result"
        }
      ],
      "source": [
        "train_args = TrainingArguments(\n",
        "    output_dir=\"./checkpoint/patchtsmixer/direct/train/output/\",\n",
        "    overwrite_output_dir=True,\n",
        "    learning_rate=0.0001,\n",
        "    num_train_epochs=100,\n",
        "    do_eval=True,\n",
        "    evaluation_strategy=\"epoch\",\n",
        "    per_device_train_batch_size=batch_size,\n",
        "    per_device_eval_batch_size=batch_size,\n",
        "    dataloader_num_workers=num_workers,\n",
        "    report_to=\"tensorboard\",\n",
        "    save_strategy=\"epoch\",\n",
        "    logging_strategy=\"epoch\",\n",
        "    save_total_limit=3,\n",
        "    logging_dir=\"./checkpoint/patchtsmixer/direct/train/logs/\",  # Make sure to specify a logging directory\n",
        "    load_best_model_at_end=True,  # Load the best model when training ends\n",
        "    metric_for_best_model=\"eval_loss\",  # Metric to monitor for early stopping\n",
        "    greater_is_better=False,  # For loss\n",
        "    label_names=[\"future_values\"],\n",
        ")\n",
        "\n",
        "# Create a new early stopping callback with faster convergence properties\n",
        "early_stopping_callback = EarlyStoppingCallback(\n",
        "    early_stopping_patience=5,  # Number of epochs with no improvement after which to stop\n",
        "    early_stopping_threshold=0.001,  # Minimum improvement required to consider as improvement\n",
        ")\n",
        "\n",
        "trainer = Trainer(\n",
        "    model=model,\n",
        "    args=train_args,\n",
        "    train_dataset=train_dataset,\n",
        "    eval_dataset=valid_dataset,\n",
        "    callbacks=[early_stopping_callback],\n",
        ")\n",
        "\n",
        "print(\"\\n\\nDoing forecasting training on Etth1/train\")\n",
        "trainer.train()"
      ]
    },
    {
      "cell_type": "code",
      "execution_count": null,
      "id": "e06f3931-6b5f-450e-b17d-360ae3984e67",
      "metadata": {
        "id": "e06f3931-6b5f-450e-b17d-360ae3984e67",
        "outputId": "11aaf63c-e054-40cb-ac2b-d6df6f20c91e"
      },
      "outputs": [
        {
          "data": {
            "text/html": [
              "\n",
              "    <div>\n",
              "      \n",
              "      <progress value='88' max='88' style='width:300px; height:20px; vertical-align: middle;'></progress>\n",
              "      [88/88 00:00]\n",
              "    </div>\n",
              "    "
            ],
            "text/plain": [
              "<IPython.core.display.HTML object>"
            ]
          },
          "metadata": {},
          "output_type": "display_data"
        },
        {
          "data": {
            "text/plain": [
              "{'eval_loss': 0.367517352104187,\n",
              " 'eval_runtime': 0.6978,\n",
              " 'eval_samples_per_second': 3991.024,\n",
              " 'eval_steps_per_second': 126.108,\n",
              " 'epoch': 8.0}"
            ]
          },
          "execution_count": 12,
          "metadata": {},
          "output_type": "execute_result"
        }
      ],
      "source": [
        "trainer.evaluate(test_dataset)"
      ]
    },
    {
      "cell_type": "markdown",
      "id": "1e206fac-39ef-4101-8d56-d8fd2c76b72f",
      "metadata": {
        "id": "1e206fac-39ef-4101-8d56-d8fd2c76b72f"
      },
      "source": [
        "## If we want to train from scratch for a few specific forecast channels"
      ]
    },
    {
      "cell_type": "code",
      "execution_count": null,
      "id": "1e1a42c9-a3dd-4a54-ab20-bdd10a1903ec",
      "metadata": {
        "id": "1e1a42c9-a3dd-4a54-ab20-bdd10a1903ec"
      },
      "outputs": [],
      "source": [
        "forecast_channel_indices = [\n",
        "    -4,\n",
        "    -1,\n",
        "]  # add the channel indices (i.e., the column number) for which the model should forecast"
      ]
    },
    {
      "cell_type": "code",
      "execution_count": null,
      "id": "d7c7dbbc-2952-4a8b-ac4d-a05257c7afa9",
      "metadata": {
        "id": "d7c7dbbc-2952-4a8b-ac4d-a05257c7afa9"
      },
      "outputs": [],
      "source": [
        "config = PatchTSMixerConfig(\n",
        "    context_length=context_length,\n",
        "    prediction_length=forecast_horizon,\n",
        "    patch_length=patch_length,\n",
        "    num_input_channels=len(forecast_columns),\n",
        "    patch_stride=patch_length,\n",
        "    d_model=48,\n",
        "    num_layers=3,\n",
        "    expansion_factor=3,\n",
        "    dropout=0.5,\n",
        "    head_dropout=0.7,\n",
        "    mode=\"common_channel\",\n",
        "    scaling=\"std\",\n",
        "    prediction_channel_indices=forecast_channel_indices,\n",
        ")\n",
        "model = PatchTSMixerForPrediction(config=config)"
      ]
    },
    {
      "cell_type": "code",
      "execution_count": null,
      "id": "63aa0a38-c56f-4abd-92a6-9e9e5daadf51",
      "metadata": {
        "id": "63aa0a38-c56f-4abd-92a6-9e9e5daadf51",
        "outputId": "0f3dbdcf-724c-4868-a934-4f6caf2e77ea"
      },
      "outputs": [
        {
          "name": "stdout",
          "output_type": "stream",
          "text": [
            "\n",
            "\n",
            "Doing forecasting training on Etth1/train\n"
          ]
        },
        {
          "data": {
            "text/html": [
              "\n",
              "    <div>\n",
              "      \n",
              "      <progress value='4284' max='25200' style='width:300px; height:20px; vertical-align: middle;'></progress>\n",
              "      [ 4284/25200 00:59 < 04:51, 71.82 it/s, Epoch 17/100]\n",
              "    </div>\n",
              "    <table border=\"1\" class=\"dataframe\">\n",
              "  <thead>\n",
              " <tr style=\"text-align: left;\">\n",
              "      <th>Epoch</th>\n",
              "      <th>Training Loss</th>\n",
              "      <th>Validation Loss</th>\n",
              "    </tr>\n",
              "  </thead>\n",
              "  <tbody>\n",
              "    <tr>\n",
              "      <td>1</td>\n",
              "      <td>0.275300</td>\n",
              "      <td>0.496316</td>\n",
              "    </tr>\n",
              "    <tr>\n",
              "      <td>2</td>\n",
              "      <td>0.231200</td>\n",
              "      <td>0.485542</td>\n",
              "    </tr>\n",
              "    <tr>\n",
              "      <td>3</td>\n",
              "      <td>0.218200</td>\n",
              "      <td>0.478069</td>\n",
              "    </tr>\n",
              "    <tr>\n",
              "      <td>4</td>\n",
              "      <td>0.209900</td>\n",
              "      <td>0.470516</td>\n",
              "    </tr>\n",
              "    <tr>\n",
              "      <td>5</td>\n",
              "      <td>0.206400</td>\n",
              "      <td>0.477010</td>\n",
              "    </tr>\n",
              "    <tr>\n",
              "      <td>6</td>\n",
              "      <td>0.202600</td>\n",
              "      <td>0.474555</td>\n",
              "    </tr>\n",
              "    <tr>\n",
              "      <td>7</td>\n",
              "      <td>0.200600</td>\n",
              "      <td>0.474283</td>\n",
              "    </tr>\n",
              "    <tr>\n",
              "      <td>8</td>\n",
              "      <td>0.198300</td>\n",
              "      <td>0.472296</td>\n",
              "    </tr>\n",
              "    <tr>\n",
              "      <td>9</td>\n",
              "      <td>0.196000</td>\n",
              "      <td>0.464579</td>\n",
              "    </tr>\n",
              "    <tr>\n",
              "      <td>10</td>\n",
              "      <td>0.194800</td>\n",
              "      <td>0.467563</td>\n",
              "    </tr>\n",
              "    <tr>\n",
              "      <td>11</td>\n",
              "      <td>0.193500</td>\n",
              "      <td>0.467156</td>\n",
              "    </tr>\n",
              "    <tr>\n",
              "      <td>12</td>\n",
              "      <td>0.192500</td>\n",
              "      <td>0.456910</td>\n",
              "    </tr>\n",
              "    <tr>\n",
              "      <td>13</td>\n",
              "      <td>0.190300</td>\n",
              "      <td>0.464192</td>\n",
              "    </tr>\n",
              "    <tr>\n",
              "      <td>14</td>\n",
              "      <td>0.189500</td>\n",
              "      <td>0.465797</td>\n",
              "    </tr>\n",
              "    <tr>\n",
              "      <td>15</td>\n",
              "      <td>0.188200</td>\n",
              "      <td>0.468837</td>\n",
              "    </tr>\n",
              "    <tr>\n",
              "      <td>16</td>\n",
              "      <td>0.187800</td>\n",
              "      <td>0.471794</td>\n",
              "    </tr>\n",
              "    <tr>\n",
              "      <td>17</td>\n",
              "      <td>0.186300</td>\n",
              "      <td>0.473285</td>\n",
              "    </tr>\n",
              "  </tbody>\n",
              "</table><p>"
            ],
            "text/plain": [
              "<IPython.core.display.HTML object>"
            ]
          },
          "metadata": {},
          "output_type": "display_data"
        },
        {
          "data": {
            "text/plain": [
              "TrainOutput(global_step=4284, training_loss=0.20359806520264356, metrics={'train_runtime': 60.2954, 'train_samples_per_second': 13322.735, 'train_steps_per_second': 417.942, 'total_flos': 1268896459751424.0, 'train_loss': 0.20359806520264356, 'epoch': 17.0})"
            ]
          },
          "execution_count": 16,
          "metadata": {},
          "output_type": "execute_result"
        }
      ],
      "source": [
        "trainer = Trainer(\n",
        "    model=model,\n",
        "    args=train_args,\n",
        "    train_dataset=train_dataset,\n",
        "    eval_dataset=valid_dataset,\n",
        "    callbacks=[early_stopping_callback],\n",
        ")\n",
        "\n",
        "print(\"\\n\\nDoing forecasting training on Etth1/train\")\n",
        "trainer.train()"
      ]
    },
    {
      "cell_type": "code",
      "execution_count": null,
      "id": "ec5de472-7e2e-4bb2-8cdb-6371d0a33ce1",
      "metadata": {
        "id": "ec5de472-7e2e-4bb2-8cdb-6371d0a33ce1",
        "outputId": "b057f426-1fa4-44ac-949f-2f94605c8bac"
      },
      "outputs": [
        {
          "data": {
            "text/html": [],
            "text/plain": [
              "<IPython.core.display.HTML object>"
            ]
          },
          "metadata": {},
          "output_type": "display_data"
        },
        {
          "data": {
            "text/plain": [
              "{'eval_loss': 0.1160622164607048,\n",
              " 'eval_runtime': 0.7379,\n",
              " 'eval_samples_per_second': 3774.245,\n",
              " 'eval_steps_per_second': 119.258,\n",
              " 'epoch': 17.0}"
            ]
          },
          "execution_count": 17,
          "metadata": {},
          "output_type": "execute_result"
        }
      ],
      "source": [
        "trainer.evaluate(test_dataset)"
      ]
    },
    {
      "cell_type": "markdown",
      "id": "5b2e8f0a-8367-4c10-84bd-a72e8f21ccc4",
      "metadata": {
        "id": "5b2e8f0a-8367-4c10-84bd-a72e8f21ccc4"
      },
      "source": [
        "#### Sanity check: Compute number of forecasting channels"
      ]
    },
    {
      "cell_type": "code",
      "execution_count": null,
      "id": "a1cdf078-10e8-4788-b7e4-3d1640ab8f8c",
      "metadata": {
        "id": "a1cdf078-10e8-4788-b7e4-3d1640ab8f8c"
      },
      "outputs": [],
      "source": [
        "output = trainer.predict(test_dataset)"
      ]
    },
    {
      "cell_type": "code",
      "execution_count": null,
      "id": "4db1b83f-7381-4fe6-97e4-42ee210ab71d",
      "metadata": {
        "id": "4db1b83f-7381-4fe6-97e4-42ee210ab71d",
        "outputId": "01be0c78-58f0-44f7-c028-ea5ec9cb31fe"
      },
      "outputs": [
        {
          "data": {
            "text/plain": [
              "(2785, 96, 2)"
            ]
          },
          "execution_count": 19,
          "metadata": {},
          "output_type": "execute_result"
        }
      ],
      "source": [
        "output.predictions[0].shape"
      ]
    }
  ],
  "metadata": {
    "kernelspec": {
      "display_name": "Python 3 (ipykernel)",
      "language": "python",
      "name": "python3"
    },
    "language_info": {
      "codemirror_mode": {
        "name": "ipython",
        "version": 3
      },
      "file_extension": ".py",
      "mimetype": "text/x-python",
      "name": "python",
      "nbconvert_exporter": "python",
      "pygments_lexer": "ipython3",
      "version": "3.10.13"
    },
    "colab": {
      "provenance": [],
      "collapsed_sections": [
        "19456329-1293-45bf-99c7-e5ccf0534846"
      ],
      "include_colab_link": true
    }
  },
  "nbformat": 4,
  "nbformat_minor": 5
}